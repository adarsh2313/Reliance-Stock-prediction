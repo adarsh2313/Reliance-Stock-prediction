{
 "cells": [
  {
   "attachments": {},
   "cell_type": "markdown",
   "id": "c47f391c",
   "metadata": {},
   "source": [
    "# 1. Introduction, Visualisation of Data"
   ]
  },
  {
   "cell_type": "code",
   "execution_count": 1,
   "id": "b421c6e9",
   "metadata": {
    "execution": {
     "iopub.execute_input": "2022-12-11T15:09:00.170649Z",
     "iopub.status.busy": "2022-12-11T15:09:00.170089Z",
     "iopub.status.idle": "2022-12-11T15:09:07.814990Z",
     "shell.execute_reply": "2022-12-11T15:09:07.813391Z"
    },
    "papermill": {
     "duration": 7.662591,
     "end_time": "2022-12-11T15:09:07.818775",
     "exception": false,
     "start_time": "2022-12-11T15:09:00.156184",
     "status": "completed"
    },
    "tags": []
   },
   "outputs": [],
   "source": [
    "import pandas as pd\n",
    "import numpy as np\n",
    "import math\n",
    "import seaborn as sns\n",
    "import matplotlib.pyplot as plt\n",
    "from scipy import stats\n",
    "from datetime import datetime\n",
    "import plotly.graph_objects as go\n",
    "from sklearn.preprocessing import MinMaxScaler\n",
    "from tensorflow import keras\n",
    "from keras.models import Sequential\n",
    "from keras.layers import Dense,LSTM,Dropout\n",
    "from keras import optimizers\n",
    "\n"
   ]
  },
  {
   "cell_type": "code",
   "execution_count": 2,
   "id": "50084e5a",
   "metadata": {
    "execution": {
     "iopub.execute_input": "2022-12-11T15:09:07.872196Z",
     "iopub.status.busy": "2022-12-11T15:09:07.871313Z",
     "iopub.status.idle": "2022-12-11T15:09:07.951282Z",
     "shell.execute_reply": "2022-12-11T15:09:07.950150Z"
    },
    "papermill": {
     "duration": 0.098314,
     "end_time": "2022-12-11T15:09:07.954684",
     "exception": false,
     "start_time": "2022-12-11T15:09:07.856370",
     "status": "completed"
    },
    "tags": []
   },
   "outputs": [
    {
     "data": {
      "text/html": [
       "<div>\n",
       "<style scoped>\n",
       "    .dataframe tbody tr th:only-of-type {\n",
       "        vertical-align: middle;\n",
       "    }\n",
       "\n",
       "    .dataframe tbody tr th {\n",
       "        vertical-align: top;\n",
       "    }\n",
       "\n",
       "    .dataframe thead th {\n",
       "        text-align: right;\n",
       "    }\n",
       "</style>\n",
       "<table border=\"1\" class=\"dataframe\">\n",
       "  <thead>\n",
       "    <tr style=\"text-align: right;\">\n",
       "      <th></th>\n",
       "      <th>Date</th>\n",
       "      <th>Symbol</th>\n",
       "      <th>Series</th>\n",
       "      <th>Prev Close</th>\n",
       "      <th>Open</th>\n",
       "      <th>High</th>\n",
       "      <th>Low</th>\n",
       "      <th>Last</th>\n",
       "      <th>Close</th>\n",
       "      <th>VWAP</th>\n",
       "      <th>Volume</th>\n",
       "      <th>Turnover</th>\n",
       "      <th>Trades</th>\n",
       "      <th>Deliverable Volume</th>\n",
       "      <th>%Deliverble</th>\n",
       "    </tr>\n",
       "  </thead>\n",
       "  <tbody>\n",
       "    <tr>\n",
       "      <th>0</th>\n",
       "      <td>01-01-1996</td>\n",
       "      <td>RELIANCE</td>\n",
       "      <td>EQ</td>\n",
       "      <td>204.65</td>\n",
       "      <td>205.00</td>\n",
       "      <td>206.10</td>\n",
       "      <td>203.65</td>\n",
       "      <td>NaN</td>\n",
       "      <td>205.75</td>\n",
       "      <td>205.26</td>\n",
       "      <td>3717450</td>\n",
       "      <td>7.630000e+13</td>\n",
       "      <td>NaN</td>\n",
       "      <td>NaN</td>\n",
       "      <td>NaN</td>\n",
       "    </tr>\n",
       "    <tr>\n",
       "      <th>1</th>\n",
       "      <td>02-01-1996</td>\n",
       "      <td>RELIANCE</td>\n",
       "      <td>EQ</td>\n",
       "      <td>205.75</td>\n",
       "      <td>205.25</td>\n",
       "      <td>206.25</td>\n",
       "      <td>202.65</td>\n",
       "      <td>NaN</td>\n",
       "      <td>204.15</td>\n",
       "      <td>204.13</td>\n",
       "      <td>6024650</td>\n",
       "      <td>1.230000e+14</td>\n",
       "      <td>NaN</td>\n",
       "      <td>NaN</td>\n",
       "      <td>NaN</td>\n",
       "    </tr>\n",
       "    <tr>\n",
       "      <th>2</th>\n",
       "      <td>03-01-1996</td>\n",
       "      <td>RELIANCE</td>\n",
       "      <td>EQ</td>\n",
       "      <td>204.15</td>\n",
       "      <td>207.50</td>\n",
       "      <td>216.95</td>\n",
       "      <td>205.25</td>\n",
       "      <td>NaN</td>\n",
       "      <td>205.70</td>\n",
       "      <td>207.04</td>\n",
       "      <td>7473500</td>\n",
       "      <td>1.550000e+14</td>\n",
       "      <td>NaN</td>\n",
       "      <td>NaN</td>\n",
       "      <td>NaN</td>\n",
       "    </tr>\n",
       "    <tr>\n",
       "      <th>3</th>\n",
       "      <td>04-01-1996</td>\n",
       "      <td>RELIANCE</td>\n",
       "      <td>EQ</td>\n",
       "      <td>205.70</td>\n",
       "      <td>203.75</td>\n",
       "      <td>204.40</td>\n",
       "      <td>201.05</td>\n",
       "      <td>NaN</td>\n",
       "      <td>203.80</td>\n",
       "      <td>202.47</td>\n",
       "      <td>7744000</td>\n",
       "      <td>1.570000e+14</td>\n",
       "      <td>NaN</td>\n",
       "      <td>NaN</td>\n",
       "      <td>NaN</td>\n",
       "    </tr>\n",
       "    <tr>\n",
       "      <th>4</th>\n",
       "      <td>05-01-1996</td>\n",
       "      <td>RELIANCE</td>\n",
       "      <td>EQ</td>\n",
       "      <td>203.80</td>\n",
       "      <td>203.00</td>\n",
       "      <td>203.00</td>\n",
       "      <td>200.65</td>\n",
       "      <td>NaN</td>\n",
       "      <td>202.40</td>\n",
       "      <td>202.05</td>\n",
       "      <td>5952000</td>\n",
       "      <td>1.200000e+14</td>\n",
       "      <td>NaN</td>\n",
       "      <td>NaN</td>\n",
       "      <td>NaN</td>\n",
       "    </tr>\n",
       "  </tbody>\n",
       "</table>\n",
       "</div>"
      ],
      "text/plain": [
       "         Date    Symbol Series  Prev Close    Open    High     Low  Last  \\\n",
       "0  01-01-1996  RELIANCE     EQ      204.65  205.00  206.10  203.65   NaN   \n",
       "1  02-01-1996  RELIANCE     EQ      205.75  205.25  206.25  202.65   NaN   \n",
       "2  03-01-1996  RELIANCE     EQ      204.15  207.50  216.95  205.25   NaN   \n",
       "3  04-01-1996  RELIANCE     EQ      205.70  203.75  204.40  201.05   NaN   \n",
       "4  05-01-1996  RELIANCE     EQ      203.80  203.00  203.00  200.65   NaN   \n",
       "\n",
       "    Close    VWAP   Volume      Turnover  Trades  Deliverable Volume  \\\n",
       "0  205.75  205.26  3717450  7.630000e+13     NaN                 NaN   \n",
       "1  204.15  204.13  6024650  1.230000e+14     NaN                 NaN   \n",
       "2  205.70  207.04  7473500  1.550000e+14     NaN                 NaN   \n",
       "3  203.80  202.47  7744000  1.570000e+14     NaN                 NaN   \n",
       "4  202.40  202.05  5952000  1.200000e+14     NaN                 NaN   \n",
       "\n",
       "   %Deliverble  \n",
       "0          NaN  \n",
       "1          NaN  \n",
       "2          NaN  \n",
       "3          NaN  \n",
       "4          NaN  "
      ]
     },
     "execution_count": 2,
     "metadata": {},
     "output_type": "execute_result"
    }
   ],
   "source": [
    "data = pd.read_csv(\"/kaggle/input/reliance-stock-price-dataset/reliance_data.csv\")\n",
    "data.head()"
   ]
  },
  {
   "attachments": {},
   "cell_type": "markdown",
   "id": "0660ebdf",
   "metadata": {
    "papermill": {
     "duration": 0.01315,
     "end_time": "2022-12-11T15:09:08.200315",
     "exception": false,
     "start_time": "2022-12-11T15:09:08.187165",
     "status": "completed"
    },
    "tags": []
   },
   "source": [
    "<p style=\"font-size:16px\"> Plotting candlesticks for a given year"
   ]
  },
  {
   "cell_type": "code",
   "execution_count": 7,
   "id": "e43a3dd4",
   "metadata": {
    "execution": {
     "iopub.execute_input": "2022-12-11T15:09:08.324355Z",
     "iopub.status.busy": "2022-12-11T15:09:08.323004Z",
     "iopub.status.idle": "2022-12-11T15:09:08.475138Z",
     "shell.execute_reply": "2022-12-11T15:09:08.473585Z"
    },
    "papermill": {
     "duration": 0.173317,
     "end_time": "2022-12-11T15:09:08.478480",
     "exception": false,
     "start_time": "2022-12-11T15:09:08.305163",
     "status": "completed"
    },
    "tags": []
   },
   "outputs": [
    {
     "data": {
      "text/html": [
       "        <script type=\"text/javascript\">\n",
       "        window.PlotlyConfig = {MathJaxConfig: 'local'};\n",
       "        if (window.MathJax && window.MathJax.Hub && window.MathJax.Hub.Config) {window.MathJax.Hub.Config({SVG: {font: \"STIX-Web\"}});}\n",
       "        if (typeof require !== 'undefined') {\n",
       "        require.undef(\"plotly\");\n",
       "        requirejs.config({\n",
       "            paths: {\n",
       "                'plotly': ['https://cdn.plot.ly/plotly-2.14.0.min']\n",
       "            }\n",
       "        });\n",
       "        require(['plotly'], function(Plotly) {\n",
       "            window._Plotly = Plotly;\n",
       "        });\n",
       "        }\n",
       "        </script>\n",
       "        "
      ]
     },
     "metadata": {},
     "output_type": "display_data"
    },
    {
     "data": {
      "text/html": [
       "<div>                            <div id=\"a211ef15-8f39-4247-a2ca-346205a84a08\" class=\"plotly-graph-div\" style=\"height:600px; width:1200px;\"></div>            <script type=\"text/javascript\">                require([\"plotly\"], function(Plotly) {                    window.PLOTLYENV=window.PLOTLYENV || {};                                    if (document.getElementById(\"a211ef15-8f39-4247-a2ca-346205a84a08\")) {                    Plotly.newPlot(                        \"a211ef15-8f39-4247-a2ca-346205a84a08\",                        [{\"close\":[1509.6,1535.3,1537.15,1501.5,1524.6,1513.15,1548.0,1547.65,1543.7,1529.4,1523.85,1537.9,1581.0,1532.35,1533.9,1533.35,1526.85,1521.55,1506.55,1471.75,1479.85,1443.75,1411.65,1383.35,1385.5,1426.4,1448.5,1457.8,1433.65,1435.6,1452.75,1470.3,1474.15,1487.6,1478.25,1467.4,1503.8,1485.95,1444.95,1416.4,1392.0,1386.25,1328.65,1316.15,1342.85,1339.7,1311.15,1271.0,1114.15,1153.55,1063.0,1105.3,1015.7,1008.0,968.5,917.7,1017.95,884.05,943.4,1082.25,1066.2,1065.6,1030.45,1113.75,1080.45,1077.45,1206.1,1192.15,1219.95,1189.15,1149.85,1168.05,1224.0,1243.8,1237.35,1363.6,1370.9,1417.0,1429.75,1428.15,1426.95,1466.0,1435.2,1460.65,1460.75,1506.95,1561.8,1576.8,1479.25,1496.45,1435.95,1459.4,1440.75,1408.9,1433.7,1441.25,1431.55,1424.05,1445.55,1472.25,1464.4,1520.35,1535.7,1541.65,1579.8,1581.7,1569.5,1537.15,1572.15,1537.7,1588.8,1614.55,1617.7,1615.35,1655.9,1759.4,1746.15,1720.9,1727.85,1717.9,1741.65,1723.15,1704.1,1737.6,1760.35,1787.9,1851.8,1823.45,1798.0,1824.25,1878.05,1935.0,1917.0,1844.0,1843.4,1911.7,1919.9,1971.55,2004.0,2057.8,2146.15,2156.2,2177.7,2096.65,2108.85,2067.1,2009.0,2150.6,2126.45,2134.1,2146.45,2119.85,2133.8,2127.6,2122.05,2113.8,2091.35,2118.55,2131.55,2097.05,2081.85,2095.75,2082.1,2137.3,2110.6,2116.15,2080.7,2087.25,2128.2,2112.1,2077.25,2082.65,2107.1,2161.35,2314.0,2319.75,2302.55,2318.85,2324.55,2298.75,2305.7,2255.85,2211.15,2230.8,2181.2,2201.7,2216.25,2245.05,2234.35,2225.25,2212.2,2210.35,2257.5,2239.25,2233.45,2237.05,2280.7,2287.5,2206.5,2175.8,2176.2,2155.9,2124.6,2106.95,2113.05,2029.1,2034.5,2011.45,2026.9,2054.5,1877.45,1850.4,1913.2,1955.0,2029.15,2050.7,2084.55,1997.2,1980.0,1996.4,2002.3,1993.25,1987.2,1973.15,1899.5,1950.7,1964.05,1947.8,1952.6,1929.8],\"high\":[1527.1,1540.95,1541.65,1527.9,1534.5,1534.45,1550.0,1557.95,1558.7,1550.0,1539.9,1543.35,1584.95,1609.0,1545.85,1546.75,1541.95,1536.35,1524.45,1510.0,1494.4,1479.7,1453.25,1426.95,1399.95,1432.5,1452.8,1467.0,1452.35,1445.5,1466.2,1474.85,1477.75,1501.45,1506.15,1475.9,1506.45,1508.0,1477.0,1451.4,1412.35,1393.8,1357.0,1369.0,1353.9,1353.8,1357.95,1288.15,1241.0,1178.45,1101.0,1140.0,1079.7,1060.0,1035.9,967.0,1034.9,950.0,970.0,1151.55,1116.9,1107.3,1074.8,1129.8,1124.6,1134.45,1214.0,1229.0,1232.8,1215.0,1236.0,1187.45,1230.0,1257.0,1252.0,1384.9,1385.85,1494.95,1475.0,1455.45,1453.65,1494.95,1465.0,1479.0,1484.95,1513.65,1579.9,1615.0,1568.35,1527.0,1496.7,1466.7,1482.0,1461.7,1446.85,1461.45,1458.0,1449.7,1454.0,1479.75,1472.0,1538.35,1540.0,1560.0,1589.5,1618.0,1618.4,1583.0,1579.55,1567.95,1593.0,1626.95,1648.55,1635.45,1665.0,1788.8,1804.2,1763.75,1772.7,1749.0,1752.0,1739.75,1741.0,1749.0,1767.6,1793.0,1858.0,1864.35,1834.95,1835.0,1884.6,1947.7,1941.7,1978.8,1869.0,1920.0,1932.0,1977.0,2010.0,2079.7,2163.0,2198.8,2194.0,2182.8,2139.7,2129.0,2057.0,2167.0,2196.0,2167.7,2157.8,2165.0,2160.0,2145.0,2138.9,2157.0,2105.0,2134.3,2154.0,2123.9,2122.0,2104.5,2111.3,2147.95,2150.0,2132.9,2174.0,2122.4,2138.0,2138.75,2096.95,2105.75,2121.0,2167.8,2344.95,2337.85,2360.0,2325.75,2369.35,2333.7,2319.45,2336.0,2277.0,2276.75,2226.0,2212.8,2238.0,2264.0,2267.0,2263.8,2249.15,2233.9,2309.0,2268.0,2253.0,2255.75,2285.75,2304.0,2290.0,2232.5,2228.7,2193.0,2192.0,2132.5,2135.0,2101.95,2059.85,2057.7,2042.0,2065.1,2027.0,1909.0,1929.0,1960.95,2040.0,2069.0,2090.0,2095.0,2008.45,2036.65,2015.3,2085.0,2006.5,2010.45,1983.8,1970.0,1974.0,1992.95,1965.0,1956.1],\"low\":[1505.5,1512.0,1523.0,1498.0,1513.5,1510.0,1531.25,1539.65,1538.4,1521.85,1518.25,1528.0,1553.2,1526.4,1522.0,1531.1,1520.7,1518.55,1505.0,1463.6,1464.05,1440.0,1407.2,1371.1,1363.05,1397.8,1430.3,1440.1,1428.3,1410.45,1445.05,1455.0,1462.6,1453.1,1474.3,1457.4,1475.1,1483.8,1439.55,1410.0,1387.35,1369.0,1325.0,1301.1,1322.0,1307.9,1306.0,1241.1,1095.0,1108.0,1048.7,942.4,1005.0,1003.2,961.0,892.2,930.0,875.65,895.8,963.25,1042.35,1046.2,1020.0,1048.0,1045.2,1056.3,1100.0,1160.0,1193.0,1180.0,1143.0,1145.0,1192.65,1202.0,1164.0,1300.0,1353.3,1347.2,1423.0,1392.15,1420.0,1438.05,1417.45,1447.2,1445.5,1445.0,1537.1,1572.3,1465.0,1454.0,1430.05,1415.1,1428.0,1403.25,1393.0,1425.0,1426.5,1416.3,1412.0,1449.0,1452.65,1475.95,1520.8,1533.35,1541.0,1573.7,1565.0,1533.0,1540.05,1531.0,1497.0,1561.1,1585.3,1602.1,1605.6,1662.0,1735.0,1716.1,1711.7,1713.05,1717.0,1715.55,1695.55,1708.05,1735.05,1768.0,1792.1,1806.3,1790.0,1786.25,1824.25,1900.0,1887.3,1798.0,1812.45,1838.0,1899.65,1936.5,1960.7,1991.35,2057.8,2127.9,2150.65,2070.45,2072.0,2052.8,2003.1,2000.25,2118.3,2107.8,2120.2,2108.1,2100.35,2106.8,2110.0,2089.25,2070.1,2082.35,2121.35,2088.0,2077.0,2070.5,2078.0,2047.0,2103.25,2106.25,2060.35,2062.4,2085.0,2103.0,2072.2,2044.25,2080.5,2081.45,2175.35,2287.1,2282.0,2288.15,2310.55,2291.85,2276.55,2247.35,2201.55,2205.3,2176.05,2167.3,2207.05,2216.25,2225.0,2214.0,2206.0,2201.65,2220.0,2222.1,2217.1,2226.25,2225.85,2268.5,2195.0,2172.65,2155.15,2152.25,2097.75,2091.0,2096.4,2018.5,2005.0,2007.4,1991.0,2021.8,1859.15,1835.1,1837.0,1932.0,1978.15,2036.0,2041.2,1978.1,1965.0,1981.75,1995.35,1985.0,1960.1,1968.2,1895.0,1926.25,1932.0,1942.2,1930.05,1921.4],\"open\":[1518.0,1512.0,1533.0,1520.0,1519.0,1515.0,1538.6,1551.9,1545.05,1540.0,1535.85,1529.0,1553.5,1609.0,1528.6,1544.0,1536.5,1527.0,1514.9,1508.6,1474.05,1479.0,1453.0,1405.3,1369.9,1400.0,1434.9,1454.1,1451.0,1428.0,1447.4,1456.15,1477.75,1477.25,1489.0,1475.9,1479.35,1497.0,1469.75,1451.4,1410.0,1388.0,1354.9,1355.1,1329.7,1352.0,1352.2,1270.0,1240.05,1108.0,1085.0,998.0,1060.55,1047.25,1025.3,920.1,939.5,916.2,930.0,963.8,1095.8,1095.0,1040.6,1073.95,1122.25,1134.45,1102.1,1180.0,1214.0,1203.95,1197.05,1149.85,1216.0,1226.0,1210.0,1320.0,1367.35,1350.15,1434.0,1450.0,1444.9,1453.95,1440.0,1453.7,1464.0,1455.0,1545.0,1580.0,1564.8,1527.0,1469.0,1444.0,1470.0,1457.0,1410.0,1435.0,1451.8,1448.15,1431.0,1455.0,1468.0,1480.0,1526.0,1545.0,1544.0,1595.0,1618.4,1560.3,1543.1,1566.0,1500.0,1565.0,1643.0,1608.25,1607.0,1670.0,1773.4,1750.0,1735.9,1727.0,1728.8,1728.05,1737.0,1720.0,1743.0,1779.8,1805.0,1860.0,1824.05,1809.0,1828.5,1903.35,1934.0,1937.95,1847.0,1845.0,1917.8,1939.0,1983.0,2003.95,2058.0,2178.8,2156.2,2177.9,2099.0,2114.5,2051.3,2020.6,2169.0,2157.0,2129.8,2159.1,2134.8,2121.0,2128.0,2122.55,2105.0,2085.0,2141.0,2120.0,2118.0,2091.4,2106.0,2085.0,2148.0,2120.0,2174.0,2100.0,2092.0,2128.0,2083.55,2084.0,2092.0,2085.0,2183.1,2312.0,2325.0,2311.95,2320.0,2320.0,2314.25,2300.0,2277.0,2260.0,2207.9,2189.0,2227.0,2225.0,2260.0,2263.8,2244.0,2225.25,2235.0,2259.0,2235.0,2235.0,2230.6,2278.9,2290.0,2215.0,2190.05,2179.0,2168.0,2127.4,2106.0,2101.95,2034.9,2041.8,1997.0,2033.5,2027.0,1890.0,1837.0,1954.95,1990.0,2062.1,2077.0,2089.0,1981.0,1982.0,2014.9,2085.0,1993.25,1987.2,1975.0,1951.0,1964.0,1980.0,1953.05,1940.5],\"x\":[5975,5976,5977,5978,5979,5980,5981,5982,5983,5984,5985,5986,5987,5988,5989,5990,5991,5992,5993,5994,5995,5996,5997,5998,5999,6000,6001,6002,6003,6004,6005,6006,6007,6008,6009,6010,6011,6012,6013,6014,6015,6016,6017,6018,6019,6020,6021,6022,6023,6024,6025,6026,6027,6028,6029,6030,6031,6032,6033,6034,6035,6036,6037,6038,6039,6040,6041,6042,6043,6044,6045,6046,6047,6048,6049,6050,6051,6052,6053,6054,6055,6056,6057,6058,6059,6060,6061,6062,6063,6064,6065,6066,6067,6068,6069,6070,6071,6072,6073,6074,6075,6076,6077,6078,6079,6080,6081,6082,6083,6084,6085,6086,6087,6088,6089,6090,6091,6092,6093,6094,6095,6096,6097,6098,6099,6100,6101,6102,6103,6104,6105,6106,6107,6108,6109,6110,6111,6112,6113,6114,6115,6116,6117,6118,6119,6120,6121,6122,6123,6124,6125,6126,6127,6128,6129,6130,6131,6132,6133,6134,6135,6136,6137,6138,6139,6140,6141,6142,6143,6144,6145,6146,6147,6148,6149,6150,6151,6152,6153,6154,6155,6156,6157,6158,6159,6160,6161,6162,6163,6164,6165,6166,6167,6168,6169,6170,6171,6172,6173,6174,6175,6176,6177,6178,6179,6180,6181,6182,6183,6184,6185,6186,6187,6188,6189,6190,6191,6192,6193,6194,6195,6196,6197,6198,6199,6200,6201,6202,6203,6204],\"type\":\"candlestick\"}],                        {\"template\":{\"data\":{\"histogram2dcontour\":[{\"type\":\"histogram2dcontour\",\"colorbar\":{\"outlinewidth\":0,\"ticks\":\"\"},\"colorscale\":[[0.0,\"#0d0887\"],[0.1111111111111111,\"#46039f\"],[0.2222222222222222,\"#7201a8\"],[0.3333333333333333,\"#9c179e\"],[0.4444444444444444,\"#bd3786\"],[0.5555555555555556,\"#d8576b\"],[0.6666666666666666,\"#ed7953\"],[0.7777777777777778,\"#fb9f3a\"],[0.8888888888888888,\"#fdca26\"],[1.0,\"#f0f921\"]]}],\"choropleth\":[{\"type\":\"choropleth\",\"colorbar\":{\"outlinewidth\":0,\"ticks\":\"\"}}],\"histogram2d\":[{\"type\":\"histogram2d\",\"colorbar\":{\"outlinewidth\":0,\"ticks\":\"\"},\"colorscale\":[[0.0,\"#0d0887\"],[0.1111111111111111,\"#46039f\"],[0.2222222222222222,\"#7201a8\"],[0.3333333333333333,\"#9c179e\"],[0.4444444444444444,\"#bd3786\"],[0.5555555555555556,\"#d8576b\"],[0.6666666666666666,\"#ed7953\"],[0.7777777777777778,\"#fb9f3a\"],[0.8888888888888888,\"#fdca26\"],[1.0,\"#f0f921\"]]}],\"heatmap\":[{\"type\":\"heatmap\",\"colorbar\":{\"outlinewidth\":0,\"ticks\":\"\"},\"colorscale\":[[0.0,\"#0d0887\"],[0.1111111111111111,\"#46039f\"],[0.2222222222222222,\"#7201a8\"],[0.3333333333333333,\"#9c179e\"],[0.4444444444444444,\"#bd3786\"],[0.5555555555555556,\"#d8576b\"],[0.6666666666666666,\"#ed7953\"],[0.7777777777777778,\"#fb9f3a\"],[0.8888888888888888,\"#fdca26\"],[1.0,\"#f0f921\"]]}],\"heatmapgl\":[{\"type\":\"heatmapgl\",\"colorbar\":{\"outlinewidth\":0,\"ticks\":\"\"},\"colorscale\":[[0.0,\"#0d0887\"],[0.1111111111111111,\"#46039f\"],[0.2222222222222222,\"#7201a8\"],[0.3333333333333333,\"#9c179e\"],[0.4444444444444444,\"#bd3786\"],[0.5555555555555556,\"#d8576b\"],[0.6666666666666666,\"#ed7953\"],[0.7777777777777778,\"#fb9f3a\"],[0.8888888888888888,\"#fdca26\"],[1.0,\"#f0f921\"]]}],\"contourcarpet\":[{\"type\":\"contourcarpet\",\"colorbar\":{\"outlinewidth\":0,\"ticks\":\"\"}}],\"contour\":[{\"type\":\"contour\",\"colorbar\":{\"outlinewidth\":0,\"ticks\":\"\"},\"colorscale\":[[0.0,\"#0d0887\"],[0.1111111111111111,\"#46039f\"],[0.2222222222222222,\"#7201a8\"],[0.3333333333333333,\"#9c179e\"],[0.4444444444444444,\"#bd3786\"],[0.5555555555555556,\"#d8576b\"],[0.6666666666666666,\"#ed7953\"],[0.7777777777777778,\"#fb9f3a\"],[0.8888888888888888,\"#fdca26\"],[1.0,\"#f0f921\"]]}],\"surface\":[{\"type\":\"surface\",\"colorbar\":{\"outlinewidth\":0,\"ticks\":\"\"},\"colorscale\":[[0.0,\"#0d0887\"],[0.1111111111111111,\"#46039f\"],[0.2222222222222222,\"#7201a8\"],[0.3333333333333333,\"#9c179e\"],[0.4444444444444444,\"#bd3786\"],[0.5555555555555556,\"#d8576b\"],[0.6666666666666666,\"#ed7953\"],[0.7777777777777778,\"#fb9f3a\"],[0.8888888888888888,\"#fdca26\"],[1.0,\"#f0f921\"]]}],\"mesh3d\":[{\"type\":\"mesh3d\",\"colorbar\":{\"outlinewidth\":0,\"ticks\":\"\"}}],\"scatter\":[{\"fillpattern\":{\"fillmode\":\"overlay\",\"size\":10,\"solidity\":0.2},\"type\":\"scatter\"}],\"parcoords\":[{\"type\":\"parcoords\",\"line\":{\"colorbar\":{\"outlinewidth\":0,\"ticks\":\"\"}}}],\"scatterpolargl\":[{\"type\":\"scatterpolargl\",\"marker\":{\"colorbar\":{\"outlinewidth\":0,\"ticks\":\"\"}}}],\"bar\":[{\"error_x\":{\"color\":\"#2a3f5f\"},\"error_y\":{\"color\":\"#2a3f5f\"},\"marker\":{\"line\":{\"color\":\"#E5ECF6\",\"width\":0.5},\"pattern\":{\"fillmode\":\"overlay\",\"size\":10,\"solidity\":0.2}},\"type\":\"bar\"}],\"scattergeo\":[{\"type\":\"scattergeo\",\"marker\":{\"colorbar\":{\"outlinewidth\":0,\"ticks\":\"\"}}}],\"scatterpolar\":[{\"type\":\"scatterpolar\",\"marker\":{\"colorbar\":{\"outlinewidth\":0,\"ticks\":\"\"}}}],\"histogram\":[{\"marker\":{\"pattern\":{\"fillmode\":\"overlay\",\"size\":10,\"solidity\":0.2}},\"type\":\"histogram\"}],\"scattergl\":[{\"type\":\"scattergl\",\"marker\":{\"colorbar\":{\"outlinewidth\":0,\"ticks\":\"\"}}}],\"scatter3d\":[{\"type\":\"scatter3d\",\"line\":{\"colorbar\":{\"outlinewidth\":0,\"ticks\":\"\"}},\"marker\":{\"colorbar\":{\"outlinewidth\":0,\"ticks\":\"\"}}}],\"scattermapbox\":[{\"type\":\"scattermapbox\",\"marker\":{\"colorbar\":{\"outlinewidth\":0,\"ticks\":\"\"}}}],\"scatterternary\":[{\"type\":\"scatterternary\",\"marker\":{\"colorbar\":{\"outlinewidth\":0,\"ticks\":\"\"}}}],\"scattercarpet\":[{\"type\":\"scattercarpet\",\"marker\":{\"colorbar\":{\"outlinewidth\":0,\"ticks\":\"\"}}}],\"carpet\":[{\"aaxis\":{\"endlinecolor\":\"#2a3f5f\",\"gridcolor\":\"white\",\"linecolor\":\"white\",\"minorgridcolor\":\"white\",\"startlinecolor\":\"#2a3f5f\"},\"baxis\":{\"endlinecolor\":\"#2a3f5f\",\"gridcolor\":\"white\",\"linecolor\":\"white\",\"minorgridcolor\":\"white\",\"startlinecolor\":\"#2a3f5f\"},\"type\":\"carpet\"}],\"table\":[{\"cells\":{\"fill\":{\"color\":\"#EBF0F8\"},\"line\":{\"color\":\"white\"}},\"header\":{\"fill\":{\"color\":\"#C8D4E3\"},\"line\":{\"color\":\"white\"}},\"type\":\"table\"}],\"barpolar\":[{\"marker\":{\"line\":{\"color\":\"#E5ECF6\",\"width\":0.5},\"pattern\":{\"fillmode\":\"overlay\",\"size\":10,\"solidity\":0.2}},\"type\":\"barpolar\"}],\"pie\":[{\"automargin\":true,\"type\":\"pie\"}]},\"layout\":{\"autotypenumbers\":\"strict\",\"colorway\":[\"#636efa\",\"#EF553B\",\"#00cc96\",\"#ab63fa\",\"#FFA15A\",\"#19d3f3\",\"#FF6692\",\"#B6E880\",\"#FF97FF\",\"#FECB52\"],\"font\":{\"color\":\"#2a3f5f\"},\"hovermode\":\"closest\",\"hoverlabel\":{\"align\":\"left\"},\"paper_bgcolor\":\"white\",\"plot_bgcolor\":\"#E5ECF6\",\"polar\":{\"bgcolor\":\"#E5ECF6\",\"angularaxis\":{\"gridcolor\":\"white\",\"linecolor\":\"white\",\"ticks\":\"\"},\"radialaxis\":{\"gridcolor\":\"white\",\"linecolor\":\"white\",\"ticks\":\"\"}},\"ternary\":{\"bgcolor\":\"#E5ECF6\",\"aaxis\":{\"gridcolor\":\"white\",\"linecolor\":\"white\",\"ticks\":\"\"},\"baxis\":{\"gridcolor\":\"white\",\"linecolor\":\"white\",\"ticks\":\"\"},\"caxis\":{\"gridcolor\":\"white\",\"linecolor\":\"white\",\"ticks\":\"\"}},\"coloraxis\":{\"colorbar\":{\"outlinewidth\":0,\"ticks\":\"\"}},\"colorscale\":{\"sequential\":[[0.0,\"#0d0887\"],[0.1111111111111111,\"#46039f\"],[0.2222222222222222,\"#7201a8\"],[0.3333333333333333,\"#9c179e\"],[0.4444444444444444,\"#bd3786\"],[0.5555555555555556,\"#d8576b\"],[0.6666666666666666,\"#ed7953\"],[0.7777777777777778,\"#fb9f3a\"],[0.8888888888888888,\"#fdca26\"],[1.0,\"#f0f921\"]],\"sequentialminus\":[[0.0,\"#0d0887\"],[0.1111111111111111,\"#46039f\"],[0.2222222222222222,\"#7201a8\"],[0.3333333333333333,\"#9c179e\"],[0.4444444444444444,\"#bd3786\"],[0.5555555555555556,\"#d8576b\"],[0.6666666666666666,\"#ed7953\"],[0.7777777777777778,\"#fb9f3a\"],[0.8888888888888888,\"#fdca26\"],[1.0,\"#f0f921\"]],\"diverging\":[[0,\"#8e0152\"],[0.1,\"#c51b7d\"],[0.2,\"#de77ae\"],[0.3,\"#f1b6da\"],[0.4,\"#fde0ef\"],[0.5,\"#f7f7f7\"],[0.6,\"#e6f5d0\"],[0.7,\"#b8e186\"],[0.8,\"#7fbc41\"],[0.9,\"#4d9221\"],[1,\"#276419\"]]},\"xaxis\":{\"gridcolor\":\"white\",\"linecolor\":\"white\",\"ticks\":\"\",\"title\":{\"standoff\":15},\"zerolinecolor\":\"white\",\"automargin\":true,\"zerolinewidth\":2},\"yaxis\":{\"gridcolor\":\"white\",\"linecolor\":\"white\",\"ticks\":\"\",\"title\":{\"standoff\":15},\"zerolinecolor\":\"white\",\"automargin\":true,\"zerolinewidth\":2},\"scene\":{\"xaxis\":{\"backgroundcolor\":\"#E5ECF6\",\"gridcolor\":\"white\",\"linecolor\":\"white\",\"showbackground\":true,\"ticks\":\"\",\"zerolinecolor\":\"white\",\"gridwidth\":2},\"yaxis\":{\"backgroundcolor\":\"#E5ECF6\",\"gridcolor\":\"white\",\"linecolor\":\"white\",\"showbackground\":true,\"ticks\":\"\",\"zerolinecolor\":\"white\",\"gridwidth\":2},\"zaxis\":{\"backgroundcolor\":\"#E5ECF6\",\"gridcolor\":\"white\",\"linecolor\":\"white\",\"showbackground\":true,\"ticks\":\"\",\"zerolinecolor\":\"white\",\"gridwidth\":2}},\"shapedefaults\":{\"line\":{\"color\":\"#2a3f5f\"}},\"annotationdefaults\":{\"arrowcolor\":\"#2a3f5f\",\"arrowhead\":0,\"arrowwidth\":1},\"geo\":{\"bgcolor\":\"white\",\"landcolor\":\"#E5ECF6\",\"subunitcolor\":\"white\",\"showland\":true,\"showlakes\":true,\"lakecolor\":\"white\"},\"title\":{\"x\":0.05},\"mapbox\":{\"style\":\"light\"}}},\"width\":1200,\"height\":600,\"title\":{\"text\":\"Reliance, 2020\"},\"yaxis\":{\"title\":{\"text\":\"Price\"}}},                        {\"responsive\": true}                    ).then(function(){\n",
       "                            \n",
       "var gd = document.getElementById('a211ef15-8f39-4247-a2ca-346205a84a08');\n",
       "var x = new MutationObserver(function (mutations, observer) {{\n",
       "        var display = window.getComputedStyle(gd).display;\n",
       "        if (!display || display === 'none') {{\n",
       "            console.log([gd, 'removed!']);\n",
       "            Plotly.purge(gd);\n",
       "            observer.disconnect();\n",
       "        }}\n",
       "}});\n",
       "\n",
       "// Listen for the removal of the full notebook cells\n",
       "var notebookContainer = gd.closest('#notebook-container');\n",
       "if (notebookContainer) {{\n",
       "    x.observe(notebookContainer, {childList: true});\n",
       "}}\n",
       "\n",
       "// Listen for the clearing of the current output cell\n",
       "var outputEl = gd.closest('.output');\n",
       "if (outputEl) {{\n",
       "    x.observe(outputEl, {childList: true});\n",
       "}}\n",
       "\n",
       "                        })                };                });            </script>        </div>"
      ]
     },
     "metadata": {},
     "output_type": "display_data"
    }
   ],
   "source": [
    "candlestick = go.Candlestick(\n",
    "                            x=df.index,\n",
    "                            open=df['Open'],\n",
    "                            high=df['High'],\n",
    "                            low=df['Low'],\n",
    "                            close=df['Close']\n",
    "                            )\n",
    "fig = go.Figure(data=[candlestick])\n",
    "\n",
    "fig.update_layout(\n",
    "    width=1200, height=600,\n",
    "    title=\"Reliance, 2020\",\n",
    "    yaxis_title='Price'\n",
    ")\n",
    "\n",
    "fig.show()"
   ]
  },
  {
   "cell_type": "markdown",
   "id": "a202f6af",
   "metadata": {
    "papermill": {
     "duration": 0.013699,
     "end_time": "2022-12-11T15:09:08.506582",
     "exception": false,
     "start_time": "2022-12-11T15:09:08.492883",
     "status": "completed"
    },
    "tags": []
   },
   "source": [
    "<p style=\"font-size:16px\"> Visualize the closing price <\\p>"
   ]
  },
  {
   "cell_type": "code",
   "execution_count": 8,
   "id": "ec723943",
   "metadata": {
    "execution": {
     "iopub.execute_input": "2022-12-11T15:09:08.536606Z",
     "iopub.status.busy": "2022-12-11T15:09:08.536126Z",
     "iopub.status.idle": "2022-12-11T15:09:08.849405Z",
     "shell.execute_reply": "2022-12-11T15:09:08.848032Z"
    },
    "papermill": {
     "duration": 0.332073,
     "end_time": "2022-12-11T15:09:08.852480",
     "exception": false,
     "start_time": "2022-12-11T15:09:08.520407",
     "status": "completed"
    },
    "tags": []
   },
   "outputs": [
    {
     "data": {
      "image/png": "[encoded data removed]",
      "text/plain": [
       "<Figure size 1152x288 with 1 Axes>"
      ]
     },
     "metadata": {
      "needs_background": "light"
     },
     "output_type": "display_data"
    }
   ],
   "source": [
    "plt.figure(figsize=(16,4));\n",
    "plt.title('close price',fontsize=14);\n",
    "plt.plot(data.Close);\n",
    "plt.xlabel('time',fontsize=14);\n",
    "plt.ylabel('price',fontsize=14);"
   ]
  },
  {
   "cell_type": "code",
   "execution_count": 9,
   "id": "ac67b6a9",
   "metadata": {
    "execution": {
     "iopub.execute_input": "2022-12-11T15:09:08.884172Z",
     "iopub.status.busy": "2022-12-11T15:09:08.883689Z",
     "iopub.status.idle": "2022-12-11T15:09:08.909319Z",
     "shell.execute_reply": "2022-12-11T15:09:08.907983Z"
    },
    "papermill": {
     "duration": 0.044883,
     "end_time": "2022-12-11T15:09:08.912013",
     "exception": false,
     "start_time": "2022-12-11T15:09:08.867130",
     "status": "completed"
    },
    "tags": []
   },
   "outputs": [
    {
     "data": {
      "text/html": [
       "<div>\n",
       "<style scoped>\n",
       "    .dataframe tbody tr th:only-of-type {\n",
       "        vertical-align: middle;\n",
       "    }\n",
       "\n",
       "    .dataframe tbody tr th {\n",
       "        vertical-align: top;\n",
       "    }\n",
       "\n",
       "    .dataframe thead th {\n",
       "        text-align: right;\n",
       "    }\n",
       "</style>\n",
       "<table border=\"1\" class=\"dataframe\">\n",
       "  <thead>\n",
       "    <tr style=\"text-align: right;\">\n",
       "      <th></th>\n",
       "      <th>Date</th>\n",
       "      <th>Symbol</th>\n",
       "      <th>Series</th>\n",
       "      <th>Prev Close</th>\n",
       "      <th>Open</th>\n",
       "      <th>High</th>\n",
       "      <th>Low</th>\n",
       "      <th>Last</th>\n",
       "      <th>Close</th>\n",
       "      <th>VWAP</th>\n",
       "      <th>Volume</th>\n",
       "      <th>Turnover</th>\n",
       "      <th>Trades</th>\n",
       "      <th>Deliverable Volume</th>\n",
       "      <th>%Deliverble</th>\n",
       "    </tr>\n",
       "  </thead>\n",
       "  <tbody>\n",
       "    <tr>\n",
       "      <th>6200</th>\n",
       "      <td>2020-11-23</td>\n",
       "      <td>RELIANCE</td>\n",
       "      <td>EQ</td>\n",
       "      <td>1899.50</td>\n",
       "      <td>1951.00</td>\n",
       "      <td>1970.00</td>\n",
       "      <td>1926.25</td>\n",
       "      <td>1955.20</td>\n",
       "      <td>1950.70</td>\n",
       "      <td>1952.18</td>\n",
       "      <td>20918665</td>\n",
       "      <td>4.083700e+15</td>\n",
       "      <td>497781.0</td>\n",
       "      <td>5148955.0</td>\n",
       "      <td>0.2461</td>\n",
       "    </tr>\n",
       "    <tr>\n",
       "      <th>6201</th>\n",
       "      <td>2020-11-24</td>\n",
       "      <td>RELIANCE</td>\n",
       "      <td>EQ</td>\n",
       "      <td>1950.70</td>\n",
       "      <td>1964.00</td>\n",
       "      <td>1974.00</td>\n",
       "      <td>1932.00</td>\n",
       "      <td>1971.05</td>\n",
       "      <td>1964.05</td>\n",
       "      <td>1952.11</td>\n",
       "      <td>14277083</td>\n",
       "      <td>2.787040e+15</td>\n",
       "      <td>362587.0</td>\n",
       "      <td>3213843.0</td>\n",
       "      <td>0.2251</td>\n",
       "    </tr>\n",
       "    <tr>\n",
       "      <th>6202</th>\n",
       "      <td>2020-11-25</td>\n",
       "      <td>RELIANCE</td>\n",
       "      <td>EQ</td>\n",
       "      <td>1964.05</td>\n",
       "      <td>1980.00</td>\n",
       "      <td>1992.95</td>\n",
       "      <td>1942.20</td>\n",
       "      <td>1947.50</td>\n",
       "      <td>1947.80</td>\n",
       "      <td>1969.06</td>\n",
       "      <td>15062376</td>\n",
       "      <td>2.965870e+15</td>\n",
       "      <td>356793.0</td>\n",
       "      <td>3040444.0</td>\n",
       "      <td>0.2019</td>\n",
       "    </tr>\n",
       "    <tr>\n",
       "      <th>6203</th>\n",
       "      <td>2020-11-26</td>\n",
       "      <td>RELIANCE</td>\n",
       "      <td>EQ</td>\n",
       "      <td>1947.80</td>\n",
       "      <td>1953.05</td>\n",
       "      <td>1965.00</td>\n",
       "      <td>1930.05</td>\n",
       "      <td>1957.00</td>\n",
       "      <td>1952.60</td>\n",
       "      <td>1946.67</td>\n",
       "      <td>11924527</td>\n",
       "      <td>2.321310e+15</td>\n",
       "      <td>266412.0</td>\n",
       "      <td>3406506.0</td>\n",
       "      <td>0.2857</td>\n",
       "    </tr>\n",
       "    <tr>\n",
       "      <th>6204</th>\n",
       "      <td>2020-11-27</td>\n",
       "      <td>RELIANCE</td>\n",
       "      <td>EQ</td>\n",
       "      <td>1952.60</td>\n",
       "      <td>1940.50</td>\n",
       "      <td>1956.10</td>\n",
       "      <td>1921.40</td>\n",
       "      <td>1940.50</td>\n",
       "      <td>1929.80</td>\n",
       "      <td>1935.45</td>\n",
       "      <td>21845931</td>\n",
       "      <td>4.228160e+15</td>\n",
       "      <td>314085.0</td>\n",
       "      <td>12489338.0</td>\n",
       "      <td>0.5717</td>\n",
       "    </tr>\n",
       "  </tbody>\n",
       "</table>\n",
       "</div>"
      ],
      "text/plain": [
       "           Date    Symbol Series  Prev Close     Open     High      Low  \\\n",
       "6200 2020-11-23  RELIANCE     EQ     1899.50  1951.00  1970.00  1926.25   \n",
       "6201 2020-11-24  RELIANCE     EQ     1950.70  1964.00  1974.00  1932.00   \n",
       "6202 2020-11-25  RELIANCE     EQ     1964.05  1980.00  1992.95  1942.20   \n",
       "6203 2020-11-26  RELIANCE     EQ     1947.80  1953.05  1965.00  1930.05   \n",
       "6204 2020-11-27  RELIANCE     EQ     1952.60  1940.50  1956.10  1921.40   \n",
       "\n",
       "         Last    Close     VWAP    Volume      Turnover    Trades  \\\n",
       "6200  1955.20  1950.70  1952.18  20918665  4.083700e+15  497781.0   \n",
       "6201  1971.05  1964.05  1952.11  14277083  2.787040e+15  362587.0   \n",
       "6202  1947.50  1947.80  1969.06  15062376  2.965870e+15  356793.0   \n",
       "6203  1957.00  1952.60  1946.67  11924527  2.321310e+15  266412.0   \n",
       "6204  1940.50  1929.80  1935.45  21845931  4.228160e+15  314085.0   \n",
       "\n",
       "      Deliverable Volume  %Deliverble  \n",
       "6200           5148955.0       0.2461  \n",
       "6201           3213843.0       0.2251  \n",
       "6202           3040444.0       0.2019  \n",
       "6203           3406506.0       0.2857  \n",
       "6204          12489338.0       0.5717  "
      ]
     },
     "execution_count": 9,
     "metadata": {},
     "output_type": "execute_result"
    }
   ],
   "source": [
    "data.tail()"
   ]
  },
  {
   "cell_type": "code",
   "execution_count": 10,
   "id": "5f3924da",
   "metadata": {
    "execution": {
     "iopub.execute_input": "2022-12-11T15:09:08.943719Z",
     "iopub.status.busy": "2022-12-11T15:09:08.943227Z",
     "iopub.status.idle": "2022-12-11T15:09:09.270147Z",
     "shell.execute_reply": "2022-12-11T15:09:09.268636Z"
    },
    "papermill": {
     "duration": 0.346182,
     "end_time": "2022-12-11T15:09:09.272955",
     "exception": false,
     "start_time": "2022-12-11T15:09:08.926773",
     "status": "completed"
    },
    "tags": []
   },
   "outputs": [
    {
     "data": {
      "image/png": "[encoded data removed]",
      "text/plain": [
       "<Figure size 1000x500 with 1 Axes>"
      ]
     },
     "metadata": {
      "needs_background": "light"
     },
     "output_type": "display_data"
    }
   ],
   "source": [
    "fig1, ax = plt.subplots(1,1,figsize=(10,5),dpi=100)\n",
    "sns.countplot(data=data,ax=ax)\n",
    "ax.tick_params(axis='x', rotation=90)"
   ]
  },
  {
   "cell_type": "markdown",
   "id": "d0a6a71c",
   "metadata": {
    "papermill": {
     "duration": 0.014871,
     "end_time": "2022-12-11T15:09:09.303154",
     "exception": false,
     "start_time": "2022-12-11T15:09:09.288283",
     "status": "completed"
    },
    "tags": []
   },
   "source": [
    "Lets drop columns with incomplete information"
   ]
  },
  {
   "cell_type": "code",
   "execution_count": 11,
   "id": "931c88fc",
   "metadata": {
    "execution": {
     "iopub.execute_input": "2022-12-11T15:09:09.336500Z",
     "iopub.status.busy": "2022-12-11T15:09:09.335993Z",
     "iopub.status.idle": "2022-12-11T15:09:09.345293Z",
     "shell.execute_reply": "2022-12-11T15:09:09.343772Z"
    },
    "papermill": {
     "duration": 0.030199,
     "end_time": "2022-12-11T15:09:09.348558",
     "exception": false,
     "start_time": "2022-12-11T15:09:09.318359",
     "status": "completed"
    },
    "tags": []
   },
   "outputs": [
    {
     "data": {
      "text/plain": [
       "Index(['Date', 'Symbol', 'Series', 'Prev Close', 'Open', 'High', 'Low', 'Last',\n",
       "       'Close', 'VWAP', 'Volume', 'Turnover', 'Trades', 'Deliverable Volume',\n",
       "       '%Deliverble'],\n",
       "      dtype='object')"
      ]
     },
     "execution_count": 11,
     "metadata": {},
     "output_type": "execute_result"
    }
   ],
   "source": [
    "data.columns"
   ]
  },
  {
   "cell_type": "code",
   "execution_count": 12,
   "id": "29b7d367",
   "metadata": {
    "execution": {
     "iopub.execute_input": "2022-12-11T15:09:09.382487Z",
     "iopub.status.busy": "2022-12-11T15:09:09.382009Z",
     "iopub.status.idle": "2022-12-11T15:09:09.389637Z",
     "shell.execute_reply": "2022-12-11T15:09:09.388255Z"
    },
    "papermill": {
     "duration": 0.027443,
     "end_time": "2022-12-11T15:09:09.392210",
     "exception": false,
     "start_time": "2022-12-11T15:09:09.364767",
     "status": "completed"
    },
    "tags": []
   },
   "outputs": [],
   "source": [
    "data = data.drop(columns=['Symbol', 'Series', 'Last', 'Trades', 'Deliverable Volume','%Deliverble'], axis=1);"
   ]
  },
  {
   "cell_type": "code",
   "execution_count": 13,
   "id": "5a55cf6d",
   "metadata": {
    "execution": {
     "iopub.execute_input": "2022-12-11T15:09:09.425472Z",
     "iopub.status.busy": "2022-12-11T15:09:09.424998Z",
     "iopub.status.idle": "2022-12-11T15:09:09.433154Z",
     "shell.execute_reply": "2022-12-11T15:09:09.431649Z"
    },
    "papermill": {
     "duration": 0.028676,
     "end_time": "2022-12-11T15:09:09.436442",
     "exception": false,
     "start_time": "2022-12-11T15:09:09.407766",
     "status": "completed"
    },
    "tags": []
   },
   "outputs": [],
   "source": [
    "data = data[['Date','Prev Close','Open', 'High', 'Low', 'VWAP','Volume', 'Turnover','Close']];"
   ]
  },
  {
   "cell_type": "code",
   "execution_count": 14,
   "id": "cb12e777",
   "metadata": {
    "execution": {
     "iopub.execute_input": "2022-12-11T15:09:09.471944Z",
     "iopub.status.busy": "2022-12-11T15:09:09.471380Z",
     "iopub.status.idle": "2022-12-11T15:09:09.494113Z",
     "shell.execute_reply": "2022-12-11T15:09:09.492933Z"
    },
    "papermill": {
     "duration": 0.043982,
     "end_time": "2022-12-11T15:09:09.497064",
     "exception": false,
     "start_time": "2022-12-11T15:09:09.453082",
     "status": "completed"
    },
    "tags": []
   },
   "outputs": [
    {
     "data": {
      "text/html": [
       "<div>\n",
       "<style scoped>\n",
       "    .dataframe tbody tr th:only-of-type {\n",
       "        vertical-align: middle;\n",
       "    }\n",
       "\n",
       "    .dataframe tbody tr th {\n",
       "        vertical-align: top;\n",
       "    }\n",
       "\n",
       "    .dataframe thead th {\n",
       "        text-align: right;\n",
       "    }\n",
       "</style>\n",
       "<table border=\"1\" class=\"dataframe\">\n",
       "  <thead>\n",
       "    <tr style=\"text-align: right;\">\n",
       "      <th></th>\n",
       "      <th>Date</th>\n",
       "      <th>Prev Close</th>\n",
       "      <th>Open</th>\n",
       "      <th>High</th>\n",
       "      <th>Low</th>\n",
       "      <th>VWAP</th>\n",
       "      <th>Volume</th>\n",
       "      <th>Turnover</th>\n",
       "      <th>Close</th>\n",
       "    </tr>\n",
       "  </thead>\n",
       "  <tbody>\n",
       "    <tr>\n",
       "      <th>0</th>\n",
       "      <td>1996-01-01</td>\n",
       "      <td>204.65</td>\n",
       "      <td>205.00</td>\n",
       "      <td>206.10</td>\n",
       "      <td>203.65</td>\n",
       "      <td>205.26</td>\n",
       "      <td>3717450</td>\n",
       "      <td>7.630000e+13</td>\n",
       "      <td>205.75</td>\n",
       "    </tr>\n",
       "    <tr>\n",
       "      <th>1</th>\n",
       "      <td>1996-02-01</td>\n",
       "      <td>205.75</td>\n",
       "      <td>205.25</td>\n",
       "      <td>206.25</td>\n",
       "      <td>202.65</td>\n",
       "      <td>204.13</td>\n",
       "      <td>6024650</td>\n",
       "      <td>1.230000e+14</td>\n",
       "      <td>204.15</td>\n",
       "    </tr>\n",
       "    <tr>\n",
       "      <th>2</th>\n",
       "      <td>1996-03-01</td>\n",
       "      <td>204.15</td>\n",
       "      <td>207.50</td>\n",
       "      <td>216.95</td>\n",
       "      <td>205.25</td>\n",
       "      <td>207.04</td>\n",
       "      <td>7473500</td>\n",
       "      <td>1.550000e+14</td>\n",
       "      <td>205.70</td>\n",
       "    </tr>\n",
       "    <tr>\n",
       "      <th>3</th>\n",
       "      <td>1996-04-01</td>\n",
       "      <td>205.70</td>\n",
       "      <td>203.75</td>\n",
       "      <td>204.40</td>\n",
       "      <td>201.05</td>\n",
       "      <td>202.47</td>\n",
       "      <td>7744000</td>\n",
       "      <td>1.570000e+14</td>\n",
       "      <td>203.80</td>\n",
       "    </tr>\n",
       "    <tr>\n",
       "      <th>4</th>\n",
       "      <td>1996-05-01</td>\n",
       "      <td>203.80</td>\n",
       "      <td>203.00</td>\n",
       "      <td>203.00</td>\n",
       "      <td>200.65</td>\n",
       "      <td>202.05</td>\n",
       "      <td>5952000</td>\n",
       "      <td>1.200000e+14</td>\n",
       "      <td>202.40</td>\n",
       "    </tr>\n",
       "  </tbody>\n",
       "</table>\n",
       "</div>"
      ],
      "text/plain": [
       "        Date  Prev Close    Open    High     Low    VWAP   Volume  \\\n",
       "0 1996-01-01      204.65  205.00  206.10  203.65  205.26  3717450   \n",
       "1 1996-02-01      205.75  205.25  206.25  202.65  204.13  6024650   \n",
       "2 1996-03-01      204.15  207.50  216.95  205.25  207.04  7473500   \n",
       "3 1996-04-01      205.70  203.75  204.40  201.05  202.47  7744000   \n",
       "4 1996-05-01      203.80  203.00  203.00  200.65  202.05  5952000   \n",
       "\n",
       "       Turnover   Close  \n",
       "0  7.630000e+13  205.75  \n",
       "1  1.230000e+14  204.15  \n",
       "2  1.550000e+14  205.70  \n",
       "3  1.570000e+14  203.80  \n",
       "4  1.200000e+14  202.40  "
      ]
     },
     "execution_count": 14,
     "metadata": {},
     "output_type": "execute_result"
    }
   ],
   "source": [
    "data.head()"
   ]
  },
  {
   "cell_type": "code",
   "execution_count": 15,
   "id": "8f825169",
   "metadata": {
    "execution": {
     "iopub.execute_input": "2022-12-11T15:09:09.532117Z",
     "iopub.status.busy": "2022-12-11T15:09:09.531533Z",
     "iopub.status.idle": "2022-12-11T15:09:09.542977Z",
     "shell.execute_reply": "2022-12-11T15:09:09.541426Z"
    },
    "papermill": {
     "duration": 0.032057,
     "end_time": "2022-12-11T15:09:09.545961",
     "exception": false,
     "start_time": "2022-12-11T15:09:09.513904",
     "status": "completed"
    },
    "tags": []
   },
   "outputs": [
    {
     "data": {
      "text/plain": [
       "Date          2020-01-01 00:00:00\n",
       "Prev Close                1514.05\n",
       "Open                       1518.0\n",
       "High                       1527.1\n",
       "Low                        1505.5\n",
       "VWAP                      1515.23\n",
       "Volume                    6402372\n",
       "Turnover        970000000000000.0\n",
       "Close                      1509.6\n",
       "Name: 5975, dtype: object"
      ]
     },
     "execution_count": 15,
     "metadata": {},
     "output_type": "execute_result"
    }
   ],
   "source": [
    "data.loc[5975,:]"
   ]
  },
  {
   "cell_type": "code",
   "execution_count": 16,
   "id": "86c878ce",
   "metadata": {
    "execution": {
     "iopub.execute_input": "2022-12-11T15:09:09.581365Z",
     "iopub.status.busy": "2022-12-11T15:09:09.580009Z",
     "iopub.status.idle": "2022-12-11T15:09:09.590753Z",
     "shell.execute_reply": "2022-12-11T15:09:09.589568Z"
    },
    "papermill": {
     "duration": 0.031202,
     "end_time": "2022-12-11T15:09:09.593230",
     "exception": false,
     "start_time": "2022-12-11T15:09:09.562028",
     "status": "completed"
    },
    "tags": []
   },
   "outputs": [
    {
     "data": {
      "text/plain": [
       "Date          2019-12-31 00:00:00\n",
       "Prev Close                 1544.2\n",
       "Open                       1542.0\n",
       "High                       1543.7\n",
       "Low                       1508.05\n",
       "VWAP                      1525.14\n",
       "Volume                   10150467\n",
       "Turnover       1550000000000000.0\n",
       "Close                     1514.05\n",
       "Name: 5974, dtype: object"
      ]
     },
     "execution_count": 16,
     "metadata": {},
     "output_type": "execute_result"
    }
   ],
   "source": [
    "data.loc[5974,:]"
   ]
  },
  {
   "cell_type": "code",
   "execution_count": 17,
   "id": "a4f7115f",
   "metadata": {
    "execution": {
     "iopub.execute_input": "2022-12-11T15:09:09.627406Z",
     "iopub.status.busy": "2022-12-11T15:09:09.626328Z",
     "iopub.status.idle": "2022-12-11T15:09:09.634099Z",
     "shell.execute_reply": "2022-12-11T15:09:09.633111Z"
    },
    "papermill": {
     "duration": 0.027926,
     "end_time": "2022-12-11T15:09:09.636856",
     "exception": false,
     "start_time": "2022-12-11T15:09:09.608930",
     "status": "completed"
    },
    "tags": []
   },
   "outputs": [],
   "source": [
    "data = data.drop(columns=['Date'], axis=1);"
   ]
  },
  {
   "cell_type": "code",
   "execution_count": 18,
   "id": "41a703b2",
   "metadata": {
    "execution": {
     "iopub.execute_input": "2022-12-11T15:09:09.671707Z",
     "iopub.status.busy": "2022-12-11T15:09:09.670885Z",
     "iopub.status.idle": "2022-12-11T15:09:09.687309Z",
     "shell.execute_reply": "2022-12-11T15:09:09.686036Z"
    },
    "papermill": {
     "duration": 0.036836,
     "end_time": "2022-12-11T15:09:09.689893",
     "exception": false,
     "start_time": "2022-12-11T15:09:09.653057",
     "status": "completed"
    },
    "tags": []
   },
   "outputs": [
    {
     "data": {
      "text/plain": [
       "<bound method DataFrame.info of       Prev Close     Open     High      Low     VWAP    Volume      Turnover  \\\n",
       "0         204.65   205.00   206.10   203.65   205.26   3717450  7.630000e+13   \n",
       "1         205.75   205.25   206.25   202.65   204.13   6024650  1.230000e+14   \n",
       "2         204.15   207.50   216.95   205.25   207.04   7473500  1.550000e+14   \n",
       "3         205.70   203.75   204.40   201.05   202.47   7744000  1.570000e+14   \n",
       "4         203.80   203.00   203.00   200.65   202.05   5952000  1.200000e+14   \n",
       "...          ...      ...      ...      ...      ...       ...           ...   \n",
       "6200     1899.50  1951.00  1970.00  1926.25  1952.18  20918665  4.083700e+15   \n",
       "6201     1950.70  1964.00  1974.00  1932.00  1952.11  14277083  2.787040e+15   \n",
       "6202     1964.05  1980.00  1992.95  1942.20  1969.06  15062376  2.965870e+15   \n",
       "6203     1947.80  1953.05  1965.00  1930.05  1946.67  11924527  2.321310e+15   \n",
       "6204     1952.60  1940.50  1956.10  1921.40  1935.45  21845931  4.228160e+15   \n",
       "\n",
       "        Close  \n",
       "0      205.75  \n",
       "1      204.15  \n",
       "2      205.70  \n",
       "3      203.80  \n",
       "4      202.40  \n",
       "...       ...  \n",
       "6200  1950.70  \n",
       "6201  1964.05  \n",
       "6202  1947.80  \n",
       "6203  1952.60  \n",
       "6204  1929.80  \n",
       "\n",
       "[6205 rows x 8 columns]>"
      ]
     },
     "execution_count": 18,
     "metadata": {},
     "output_type": "execute_result"
    }
   ],
   "source": [
    "data.info"
   ]
  },
  {
   "cell_type": "markdown",
   "id": "26a26c50",
   "metadata": {
    "papermill": {
     "duration": 0.015315,
     "end_time": "2022-12-11T15:09:09.721039",
     "exception": false,
     "start_time": "2022-12-11T15:09:09.705724",
     "status": "completed"
    },
    "tags": []
   },
   "source": [
    "<a id=\"4\"></a>\n",
    "# 2. Time Series Forecasting"
   ]
  },
  {
   "cell_type": "markdown",
   "id": "6ef33e29",
   "metadata": {
    "papermill": {
     "duration": 0.015399,
     "end_time": "2022-12-11T15:09:09.752287",
     "exception": false,
     "start_time": "2022-12-11T15:09:09.736888",
     "status": "completed"
    },
    "tags": []
   },
   "source": [
    "<p style=\"font-size:16px\"> Lets use Long Short Term Memory (LSTM) to forecast the closing price of a stock. LSTM is widely used method for time-series forecasting. This nueral network stores past information that are important while forgetting other information that are not so important. <\\p>"
   ]
  },
  {
   "cell_type": "markdown",
   "id": "9c248a83",
   "metadata": {
    "papermill": {
     "duration": 0.015505,
     "end_time": "2022-12-11T15:09:09.783814",
     "exception": false,
     "start_time": "2022-12-11T15:09:09.768309",
     "status": "completed"
    },
    "tags": []
   },
   "source": [
    "<a id=\"5\"></a>\n",
    "### 2.1 Scaling and data leakage"
   ]
  },
  {
   "cell_type": "markdown",
   "id": "571b742b",
   "metadata": {
    "papermill": {
     "duration": 0.015581,
     "end_time": "2022-12-11T15:09:09.815269",
     "exception": false,
     "start_time": "2022-12-11T15:09:09.799688",
     "status": "completed"
    },
    "tags": []
   },
   "source": [
    "<p style=\"font-size:16px\"> We will first scale the data treating them separately as train and test. For train we will use data\n",
    "    until 2019 and for the test we will use 2020 stock price. <\\p>"
   ]
  },
  {
   "cell_type": "code",
   "execution_count": 19,
   "id": "d6924d49",
   "metadata": {
    "execution": {
     "iopub.execute_input": "2022-12-11T15:09:09.850196Z",
     "iopub.status.busy": "2022-12-11T15:09:09.849393Z",
     "iopub.status.idle": "2022-12-11T15:09:09.856068Z",
     "shell.execute_reply": "2022-12-11T15:09:09.855091Z"
    },
    "papermill": {
     "duration": 0.027236,
     "end_time": "2022-12-11T15:09:09.858818",
     "exception": false,
     "start_time": "2022-12-11T15:09:09.831582",
     "status": "completed"
    },
    "tags": []
   },
   "outputs": [],
   "source": [
    "# Scale the dataset\n",
    "scaler = MinMaxScaler(feature_range=(0,1));\n",
    "dataset = data.values.astype('float32')"
   ]
  },
  {
   "cell_type": "code",
   "execution_count": 20,
   "id": "750fa527",
   "metadata": {
    "execution": {
     "iopub.execute_input": "2022-12-11T15:09:09.893721Z",
     "iopub.status.busy": "2022-12-11T15:09:09.892939Z",
     "iopub.status.idle": "2022-12-11T15:09:09.900202Z",
     "shell.execute_reply": "2022-12-11T15:09:09.898860Z"
    },
    "papermill": {
     "duration": 0.028096,
     "end_time": "2022-12-11T15:09:09.903041",
     "exception": false,
     "start_time": "2022-12-11T15:09:09.874945",
     "status": "completed"
    },
    "tags": []
   },
   "outputs": [
    {
     "data": {
      "text/plain": [
       "(6205, 8)"
      ]
     },
     "execution_count": 20,
     "metadata": {},
     "output_type": "execute_result"
    }
   ],
   "source": [
    "dataset.shape"
   ]
  },
  {
   "cell_type": "code",
   "execution_count": 21,
   "id": "d6cc29eb",
   "metadata": {
    "execution": {
     "iopub.execute_input": "2022-12-11T15:09:09.940246Z",
     "iopub.status.busy": "2022-12-11T15:09:09.939441Z",
     "iopub.status.idle": "2022-12-11T15:09:09.946628Z",
     "shell.execute_reply": "2022-12-11T15:09:09.945686Z"
    },
    "papermill": {
     "duration": 0.028814,
     "end_time": "2022-12-11T15:09:09.949462",
     "exception": false,
     "start_time": "2022-12-11T15:09:09.920648",
     "status": "completed"
    },
    "tags": []
   },
   "outputs": [],
   "source": [
    "#  Perform separate scaling for training and testing data set to avoid DATA LEAKAGE\n",
    "\n",
    "scaled1 = scaler.fit_transform(dataset[0:5974,:]); # Years until 2019\n",
    "scaled2 = scaler.fit_transform(dataset[5974:6205,:]); # Year 2020\n"
   ]
  },
  {
   "cell_type": "code",
   "execution_count": 22,
   "id": "93a5f78e",
   "metadata": {
    "execution": {
     "iopub.execute_input": "2022-12-11T15:09:09.985817Z",
     "iopub.status.busy": "2022-12-11T15:09:09.985091Z",
     "iopub.status.idle": "2022-12-11T15:09:09.991263Z",
     "shell.execute_reply": "2022-12-11T15:09:09.990364Z"
    },
    "papermill": {
     "duration": 0.027496,
     "end_time": "2022-12-11T15:09:09.993744",
     "exception": false,
     "start_time": "2022-12-11T15:09:09.966248",
     "status": "completed"
    },
    "tags": []
   },
   "outputs": [
    {
     "data": {
      "text/plain": [
       "(5974, 8)"
      ]
     },
     "execution_count": 22,
     "metadata": {},
     "output_type": "execute_result"
    }
   ],
   "source": [
    "scaled1.shape"
   ]
  },
  {
   "cell_type": "code",
   "execution_count": 23,
   "id": "f0154cfe",
   "metadata": {
    "execution": {
     "iopub.execute_input": "2022-12-11T15:09:10.030385Z",
     "iopub.status.busy": "2022-12-11T15:09:10.029640Z",
     "iopub.status.idle": "2022-12-11T15:09:10.037327Z",
     "shell.execute_reply": "2022-12-11T15:09:10.035529Z"
    },
    "papermill": {
     "duration": 0.029383,
     "end_time": "2022-12-11T15:09:10.040389",
     "exception": false,
     "start_time": "2022-12-11T15:09:10.011006",
     "status": "completed"
    },
    "tags": []
   },
   "outputs": [
    {
     "data": {
      "text/plain": [
       "(231, 8)"
      ]
     },
     "execution_count": 23,
     "metadata": {},
     "output_type": "execute_result"
    }
   ],
   "source": [
    "scaled2.shape"
   ]
  },
  {
   "cell_type": "code",
   "execution_count": 24,
   "id": "f8a3c0aa",
   "metadata": {
    "execution": {
     "iopub.execute_input": "2022-12-11T15:09:10.077999Z",
     "iopub.status.busy": "2022-12-11T15:09:10.077166Z",
     "iopub.status.idle": "2022-12-11T15:09:10.082398Z",
     "shell.execute_reply": "2022-12-11T15:09:10.081471Z"
    },
    "papermill": {
     "duration": 0.026277,
     "end_time": "2022-12-11T15:09:10.085028",
     "exception": false,
     "start_time": "2022-12-11T15:09:10.058751",
     "status": "completed"
    },
    "tags": []
   },
   "outputs": [],
   "source": [
    "scaled  = np.concatenate((scaled1, scaled2), axis=0);\n"
   ]
  },
  {
   "cell_type": "code",
   "execution_count": 25,
   "id": "aa1683aa",
   "metadata": {
    "execution": {
     "iopub.execute_input": "2022-12-11T15:09:10.121778Z",
     "iopub.status.busy": "2022-12-11T15:09:10.121247Z",
     "iopub.status.idle": "2022-12-11T15:09:10.128621Z",
     "shell.execute_reply": "2022-12-11T15:09:10.127748Z"
    },
    "papermill": {
     "duration": 0.028898,
     "end_time": "2022-12-11T15:09:10.130843",
     "exception": false,
     "start_time": "2022-12-11T15:09:10.101945",
     "status": "completed"
    },
    "tags": []
   },
   "outputs": [
    {
     "data": {
      "text/plain": [
       "(6205, 8)"
      ]
     },
     "execution_count": 25,
     "metadata": {},
     "output_type": "execute_result"
    }
   ],
   "source": [
    "scaled.shape"
   ]
  },
  {
   "cell_type": "code",
   "execution_count": 26,
   "id": "3cd0e868",
   "metadata": {
    "execution": {
     "iopub.execute_input": "2022-12-11T15:09:10.166838Z",
     "iopub.status.busy": "2022-12-11T15:09:10.166308Z",
     "iopub.status.idle": "2022-12-11T15:09:10.174845Z",
     "shell.execute_reply": "2022-12-11T15:09:10.173630Z"
    },
    "papermill": {
     "duration": 0.029303,
     "end_time": "2022-12-11T15:09:10.177169",
     "exception": false,
     "start_time": "2022-12-11T15:09:10.147866",
     "status": "completed"
    },
    "tags": []
   },
   "outputs": [
    {
     "data": {
      "text/plain": [
       "(5974, 7)"
      ]
     },
     "execution_count": 26,
     "metadata": {},
     "output_type": "execute_result"
    }
   ],
   "source": [
    "X_train = scaled[0:5974,0:-1]; # Years until 2019\n",
    "X_train.shape"
   ]
  },
  {
   "cell_type": "code",
   "execution_count": 27,
   "id": "71bbd148",
   "metadata": {
    "execution": {
     "iopub.execute_input": "2022-12-11T15:09:10.213846Z",
     "iopub.status.busy": "2022-12-11T15:09:10.212852Z",
     "iopub.status.idle": "2022-12-11T15:09:10.221426Z",
     "shell.execute_reply": "2022-12-11T15:09:10.220188Z"
    },
    "papermill": {
     "duration": 0.030377,
     "end_time": "2022-12-11T15:09:10.224247",
     "exception": false,
     "start_time": "2022-12-11T15:09:10.193870",
     "status": "completed"
    },
    "tags": []
   },
   "outputs": [
    {
     "data": {
      "text/plain": [
       "(230, 7)"
      ]
     },
     "execution_count": 27,
     "metadata": {},
     "output_type": "execute_result"
    }
   ],
   "source": [
    "X_test = scaled[5974:-1,0:-1]; # Year 2020\n",
    "X_test.shape"
   ]
  },
  {
   "cell_type": "code",
   "execution_count": 28,
   "id": "817e01a4",
   "metadata": {
    "execution": {
     "iopub.execute_input": "2022-12-11T15:09:10.262927Z",
     "iopub.status.busy": "2022-12-11T15:09:10.262323Z",
     "iopub.status.idle": "2022-12-11T15:09:10.268623Z",
     "shell.execute_reply": "2022-12-11T15:09:10.267210Z"
    },
    "papermill": {
     "duration": 0.029381,
     "end_time": "2022-12-11T15:09:10.271484",
     "exception": false,
     "start_time": "2022-12-11T15:09:10.242103",
     "status": "completed"
    },
    "tags": []
   },
   "outputs": [],
   "source": [
    "Y_train = scaled[0:5974,-1];  # Years until 2019\n",
    "Y_true  = scaled[5974:-1,-1]; # Year 2020"
   ]
  },
  {
   "cell_type": "code",
   "execution_count": 29,
   "id": "fabecb66",
   "metadata": {
    "execution": {
     "iopub.execute_input": "2022-12-11T15:09:10.307989Z",
     "iopub.status.busy": "2022-12-11T15:09:10.307455Z",
     "iopub.status.idle": "2022-12-11T15:09:10.315577Z",
     "shell.execute_reply": "2022-12-11T15:09:10.314523Z"
    },
    "papermill": {
     "duration": 0.029923,
     "end_time": "2022-12-11T15:09:10.318140",
     "exception": false,
     "start_time": "2022-12-11T15:09:10.288217",
     "status": "completed"
    },
    "tags": []
   },
   "outputs": [
    {
     "data": {
      "text/plain": [
       "((5974,), (230,))"
      ]
     },
     "execution_count": 29,
     "metadata": {},
     "output_type": "execute_result"
    }
   ],
   "source": [
    "Y_train.shape,Y_true.shape"
   ]
  },
  {
   "cell_type": "code",
   "execution_count": 30,
   "id": "a260a583",
   "metadata": {
    "execution": {
     "iopub.execute_input": "2022-12-11T15:09:10.354814Z",
     "iopub.status.busy": "2022-12-11T15:09:10.353882Z",
     "iopub.status.idle": "2022-12-11T15:09:10.584426Z",
     "shell.execute_reply": "2022-12-11T15:09:10.583161Z"
    },
    "papermill": {
     "duration": 0.252068,
     "end_time": "2022-12-11T15:09:10.587056",
     "exception": false,
     "start_time": "2022-12-11T15:09:10.334988",
     "status": "completed"
    },
    "tags": []
   },
   "outputs": [
    {
     "data": {
      "text/plain": [
       "[<matplotlib.lines.Line2D at 0x7f1d3f30cc50>]"
      ]
     },
     "execution_count": 30,
     "metadata": {},
     "output_type": "execute_result"
    },
    {
     "data": {
      "image/png": "[encoded data removed]",
      "text/plain": [
       "<Figure size 432x288 with 1 Axes>"
      ]
     },
     "metadata": {
      "needs_background": "light"
     },
     "output_type": "display_data"
    }
   ],
   "source": [
    "plt.plot(Y_train) # scaled version of price action till 2019"
   ]
  },
  {
   "cell_type": "code",
   "execution_count": 31,
   "id": "6b5d17cb",
   "metadata": {
    "execution": {
     "iopub.execute_input": "2022-12-11T15:09:10.624119Z",
     "iopub.status.busy": "2022-12-11T15:09:10.623260Z",
     "iopub.status.idle": "2022-12-11T15:09:10.632213Z",
     "shell.execute_reply": "2022-12-11T15:09:10.630949Z"
    },
    "papermill": {
     "duration": 0.03068,
     "end_time": "2022-12-11T15:09:10.634868",
     "exception": false,
     "start_time": "2022-12-11T15:09:10.604188",
     "status": "completed"
    },
    "tags": []
   },
   "outputs": [
    {
     "data": {
      "text/plain": [
       "(5974, 7, 1)"
      ]
     },
     "execution_count": 31,
     "metadata": {},
     "output_type": "execute_result"
    }
   ],
   "source": [
    "# Reshape the data\n",
    "X_train = np.reshape(X_train,(X_train.shape[0],X_train.shape[1],1));\n",
    "X_train.shape"
   ]
  },
  {
   "cell_type": "code",
   "execution_count": 32,
   "id": "7695585d",
   "metadata": {
    "execution": {
     "iopub.execute_input": "2022-12-11T15:09:10.671481Z",
     "iopub.status.busy": "2022-12-11T15:09:10.670970Z",
     "iopub.status.idle": "2022-12-11T15:09:10.679029Z",
     "shell.execute_reply": "2022-12-11T15:09:10.677965Z"
    },
    "papermill": {
     "duration": 0.029188,
     "end_time": "2022-12-11T15:09:10.681360",
     "exception": false,
     "start_time": "2022-12-11T15:09:10.652172",
     "status": "completed"
    },
    "tags": []
   },
   "outputs": [
    {
     "data": {
      "text/plain": [
       "(230, 7, 1)"
      ]
     },
     "execution_count": 32,
     "metadata": {},
     "output_type": "execute_result"
    }
   ],
   "source": [
    "X_test = np.array(X_test);\n",
    "# Reshape the data\n",
    "X_test = np.reshape(X_test,(X_test.shape[0],X_test.shape[1],1));\n",
    "X_test.shape"
   ]
  },
  {
   "cell_type": "markdown",
   "id": "be82763d",
   "metadata": {
    "papermill": {
     "duration": 0.017087,
     "end_time": "2022-12-11T15:09:10.716476",
     "exception": false,
     "start_time": "2022-12-11T15:09:10.699389",
     "status": "completed"
    },
    "tags": []
   },
   "source": [
    "<a id=\"6\"></a>\n",
    "### 2.2 LSTM Model"
   ]
  },
  {
   "cell_type": "code",
   "execution_count": 33,
   "id": "f60fc766",
   "metadata": {
    "execution": {
     "iopub.execute_input": "2022-12-11T15:09:10.753563Z",
     "iopub.status.busy": "2022-12-11T15:09:10.753046Z",
     "iopub.status.idle": "2022-12-11T15:09:11.458004Z",
     "shell.execute_reply": "2022-12-11T15:09:11.456701Z"
    },
    "papermill": {
     "duration": 0.72713,
     "end_time": "2022-12-11T15:09:11.460918",
     "exception": false,
     "start_time": "2022-12-11T15:09:10.733788",
     "status": "completed"
    },
    "tags": []
   },
   "outputs": [
    {
     "name": "stderr",
     "output_type": "stream",
     "text": [
      "2022-12-11 15:09:10.794904: I tensorflow/core/common_runtime/process_util.cc:146] Creating new thread pool with default inter op setting: 2. Tune using inter_op_parallelism_threads for best performance.\n"
     ]
    }
   ],
   "source": [
    "\n",
    "# build the LSTM Model\n",
    "LSTM_model = Sequential();\n",
    "LSTM_model.add(LSTM(units = 50,return_sequences=True,input_shape = (X_train.shape[0],1)));\n",
    "LSTM_model.add(LSTM(units = 50,return_sequences=False));\n",
    "LSTM_model.add(Dense(25,activation='sigmoid')); # hidden layer\n",
    "LSTM_model.add(Dropout(0.2));\n",
    "LSTM_model.add(Dense(1,activation='sigmoid')); # output layer\n"
   ]
  },
  {
   "cell_type": "code",
   "execution_count": 34,
   "id": "36193c58",
   "metadata": {
    "execution": {
     "iopub.execute_input": "2022-12-11T15:09:11.498403Z",
     "iopub.status.busy": "2022-12-11T15:09:11.497904Z",
     "iopub.status.idle": "2022-12-11T15:09:11.523963Z",
     "shell.execute_reply": "2022-12-11T15:09:11.522819Z"
    },
    "papermill": {
     "duration": 0.047945,
     "end_time": "2022-12-11T15:09:11.526727",
     "exception": false,
     "start_time": "2022-12-11T15:09:11.478782",
     "status": "completed"
    },
    "tags": []
   },
   "outputs": [],
   "source": [
    "LSTM_model.compile(loss = 'mean_squared_error',optimizer = 'adam');\n"
   ]
  },
  {
   "cell_type": "code",
   "execution_count": 35,
   "id": "8e3ba77f",
   "metadata": {
    "execution": {
     "iopub.execute_input": "2022-12-11T15:09:11.564070Z",
     "iopub.status.busy": "2022-12-11T15:09:11.563535Z",
     "iopub.status.idle": "2022-12-11T15:09:57.783248Z",
     "shell.execute_reply": "2022-12-11T15:09:57.781915Z"
    },
    "papermill": {
     "duration": 46.241768,
     "end_time": "2022-12-11T15:09:57.786206",
     "exception": false,
     "start_time": "2022-12-11T15:09:11.544438",
     "status": "completed"
    },
    "tags": []
   },
   "outputs": [
    {
     "name": "stderr",
     "output_type": "stream",
     "text": [
      "2022-12-11 15:09:11.632802: I tensorflow/compiler/mlir/mlir_graph_optimization_pass.cc:185] None of the MLIR Optimization Passes are enabled (registered 2)\n"
     ]
    },
    {
     "name": "stdout",
     "output_type": "stream",
     "text": [
      "Epoch 1/5\n",
      "598/598 [==============================] - 14s 15ms/step - loss: 0.0056 - val_loss: 0.0059\n",
      "Epoch 2/5\n",
      "598/598 [==============================] - 8s 14ms/step - loss: 0.0011 - val_loss: 0.0036\n",
      "Epoch 3/5\n",
      "598/598 [==============================] - 8s 13ms/step - loss: 8.3088e-04 - val_loss: 0.0023\n",
      "Epoch 4/5\n",
      "598/598 [==============================] - 8s 13ms/step - loss: 6.6140e-04 - val_loss: 0.0023\n",
      "Epoch 5/5\n",
      "598/598 [==============================] - 8s 14ms/step - loss: 6.0684e-04 - val_loss: 0.0018\n"
     ]
    },
    {
     "data": {
      "image/png": "[encoded data removed]",
      "text/plain": [
       "<Figure size 432x288 with 1 Axes>"
      ]
     },
     "metadata": {
      "needs_background": "light"
     },
     "output_type": "display_data"
    }
   ],
   "source": [
    "history = LSTM_model.fit(X_train,Y_train,batch_size = 10,epochs = 5,validation_data=(X_test, Y_true));\n",
    "plt.plot(history.history['loss'],label='train');\n",
    "plt.plot(history.history['val_loss'],label='test');\n",
    "plt.legend();"
   ]
  },
  {
   "cell_type": "code",
   "execution_count": 36,
   "id": "633868fb",
   "metadata": {
    "execution": {
     "iopub.execute_input": "2022-12-11T15:09:57.910973Z",
     "iopub.status.busy": "2022-12-11T15:09:57.909520Z",
     "iopub.status.idle": "2022-12-11T15:09:58.965360Z",
     "shell.execute_reply": "2022-12-11T15:09:58.963748Z"
    },
    "papermill": {
     "duration": 1.120938,
     "end_time": "2022-12-11T15:09:58.968383",
     "exception": false,
     "start_time": "2022-12-11T15:09:57.847445",
     "status": "completed"
    },
    "tags": []
   },
   "outputs": [],
   "source": [
    "y_pred   = LSTM_model.predict(X_test);\n"
   ]
  },
  {
   "cell_type": "code",
   "execution_count": 37,
   "id": "751a6374",
   "metadata": {
    "execution": {
     "iopub.execute_input": "2022-12-11T15:09:59.096432Z",
     "iopub.status.busy": "2022-12-11T15:09:59.095506Z",
     "iopub.status.idle": "2022-12-11T15:09:59.102256Z",
     "shell.execute_reply": "2022-12-11T15:09:59.101245Z"
    },
    "papermill": {
     "duration": 0.07299,
     "end_time": "2022-12-11T15:09:59.104696",
     "exception": false,
     "start_time": "2022-12-11T15:09:59.031706",
     "status": "completed"
    },
    "tags": []
   },
   "outputs": [],
   "source": [
    "X_test   = X_test.reshape(X_test.shape[0],X_test.shape[1]);\n",
    "datafwd  = np.concatenate((X_test, y_pred), axis=1);\n",
    "inv_data = scaler.inverse_transform(datafwd);\n",
    "ypred    = inv_data[:,-1];"
   ]
  },
  {
   "cell_type": "markdown",
   "id": "e7c37237",
   "metadata": {
    "papermill": {
     "duration": 0.061826,
     "end_time": "2022-12-11T15:09:59.228800",
     "exception": false,
     "start_time": "2022-12-11T15:09:59.166974",
     "status": "completed"
    },
    "tags": []
   },
   "source": [
    "<a id=\"7\"></a>\n",
    "# 3. Results"
   ]
  },
  {
   "cell_type": "markdown",
   "id": "8b16835d",
   "metadata": {
    "papermill": {
     "duration": 0.060347,
     "end_time": "2022-12-11T15:09:59.350303",
     "exception": false,
     "start_time": "2022-12-11T15:09:59.289956",
     "status": "completed"
    },
    "tags": []
   },
   "source": [
    "<p style=\"font-size:16px\"> Here we will visualize the predicted stock price for 2020 against the ground truth. <\\p>"
   ]
  },
  {
   "cell_type": "code",
   "execution_count": 38,
   "id": "bdd6cae6",
   "metadata": {
    "execution": {
     "iopub.execute_input": "2022-12-11T15:09:59.475337Z",
     "iopub.status.busy": "2022-12-11T15:09:59.474531Z",
     "iopub.status.idle": "2022-12-11T15:09:59.784150Z",
     "shell.execute_reply": "2022-12-11T15:09:59.782775Z"
    },
    "papermill": {
     "duration": 0.376141,
     "end_time": "2022-12-11T15:09:59.787049",
     "exception": false,
     "start_time": "2022-12-11T15:09:59.410908",
     "status": "completed"
    },
    "tags": []
   },
   "outputs": [
    {
     "data": {
      "image/png": "[encoded data removed]",
      "text/plain": [
       "<Figure size 1152x288 with 1 Axes>"
      ]
     },
     "metadata": {
      "needs_background": "light"
     },
     "output_type": "display_data"
    }
   ],
   "source": [
    "plt.figure(figsize=(16,4));\n",
    "plt.plot(data.Close);\n",
    "index_2020 = list(range(5974,6204));\n",
    "plt.plot(index_2020,ypred,label='LSTM predicted');\n",
    "plt.legend();"
   ]
  },
  {
   "cell_type": "code",
   "execution_count": 39,
   "id": "6d73fee1",
   "metadata": {
    "execution": {
     "iopub.execute_input": "2022-12-11T15:09:59.918778Z",
     "iopub.status.busy": "2022-12-11T15:09:59.918188Z",
     "iopub.status.idle": "2022-12-11T15:10:00.205465Z",
     "shell.execute_reply": "2022-12-11T15:10:00.204318Z"
    },
    "papermill": {
     "duration": 0.357602,
     "end_time": "2022-12-11T15:10:00.208385",
     "exception": false,
     "start_time": "2022-12-11T15:09:59.850783",
     "status": "completed"
    },
    "tags": []
   },
   "outputs": [
    {
     "data": {
      "text/plain": [
       "<matplotlib.legend.Legend at 0x7f1d261c5090>"
      ]
     },
     "execution_count": 39,
     "metadata": {},
     "output_type": "execute_result"
    },
    {
     "data": {
      "image/png": "[encoded data removed]",
      "text/plain": [
       "<Figure size 1152x288 with 1 Axes>"
      ]
     },
     "metadata": {
      "needs_background": "light"
     },
     "output_type": "display_data"
    }
   ],
   "source": [
    "plt.figure(figsize=(16,4));\n",
    "plt.plot(data.Close[5974:6204],'r',label='truth');\n",
    "index_2020 = list(range(5974,6204));\n",
    "plt.plot(index_2020,ypred,'k',label='predicted');\n",
    "plt.legend()"
   ]
  }
 ],
 "metadata": {
  "kernelspec": {
   "display_name": "ml",
   "language": "python",
   "name": "python3"
  },
  "language_info": {
   "codemirror_mode": {
    "name": "ipython",
    "version": 3
   },
   "file_extension": ".py",
   "mimetype": "text/x-python",
   "name": "python",
   "nbconvert_exporter": "python",
   "pygments_lexer": "ipython3",
   "version": "3.10.8 (main, Nov 24 2022, 14:13:03) [GCC 11.2.0]"
  },
  "papermill": {
   "default_parameters": {},
   "duration": 72.293653,
   "end_time": "2022-12-11T15:10:03.194717",
   "environment_variables": {},
   "exception": null,
   "input_path": "__notebook__.ipynb",
   "output_path": "__notebook__.ipynb",
   "parameters": {},
   "start_time": "2022-12-11T15:08:50.901064",
   "version": "2.3.4"
  },
  "vscode": {
   "interpreter": {
    "hash": "8cdd72a96d410241551f54a5085a22f54a869bf876173f3c0117cb2f437b2cda"
   }
  }
 },
 "nbformat": 4,
 "nbformat_minor": 5
}
